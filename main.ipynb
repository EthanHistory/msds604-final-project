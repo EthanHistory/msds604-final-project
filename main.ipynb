{
 "cells": [
  {
   "cell_type": "markdown",
   "metadata": {},
   "source": [
    "\n",
    "<div class=\"alert alert-block alert-info\">\n",
    "<h1>Data set-up and preprocessing</h1>"
   ]
  },
  {
   "cell_type": "code",
   "execution_count": 6,
   "metadata": {},
   "outputs": [],
   "source": [
    "import pandas as pd\n",
    "import warnings                  \n",
    "             \n",
    "warnings.filterwarnings('ignore')\n",
    "\n",
    "# [TODO] you need to change this path to your local data path\n",
    "data_path = './data/train.csv'\n",
    "\n",
    "df = pd.read_csv('./data/train.csv')\n",
    "df['Datetime'] = pd.to_datetime(df['Datetime'])\n",
    "df = df.sort_values(by='Datetime').rename(columns={'Datetime' : 'ds', 'ActivePower' : 'y'})\n",
    "\n",
    "# [TODO] We would use different method to aggregate features (X)\n",
    "df = df.set_index('ds').resample('D').mean().reset_index()\n",
    "\n",
    "last_date = df['ds'].iloc[-1]"
   ]
  },
  {
   "cell_type": "markdown",
   "metadata": {},
   "source": [
    "<div class=\"alert alert-block alert-warning\">  \n",
    "<h3> [Demo] SARIMAX model (Inseong Han)</h3>"
   ]
  },
  {
   "cell_type": "code",
   "execution_count": 4,
   "metadata": {},
   "outputs": [
    {
     "name": "stdout",
     "output_type": "stream",
     "text": [
      "[SARIMAX] Start cross-validation\n"
     ]
    },
    {
     "name": "stderr",
     "output_type": "stream",
     "text": [
      "  6%|▋         | 1/16 [00:01<00:23,  1.58s/it]"
     ]
    },
    {
     "name": "stdout",
     "output_type": "stream",
     "text": [
      "[SARIMAX] P={'p': 0, 'd': 0, 'q': 0, 'P': 1, 'D': 1, 'Q': 1, 't': 'n'} RMSE=242.383\n"
     ]
    },
    {
     "name": "stderr",
     "output_type": "stream",
     "text": [
      " 12%|█▎        | 2/16 [00:06<00:46,  3.33s/it]"
     ]
    },
    {
     "name": "stdout",
     "output_type": "stream",
     "text": [
      "[SARIMAX] P={'p': 0, 'd': 0, 'q': 0, 'P': 1, 'D': 1, 'Q': 2, 't': 'n'} RMSE=242.294\n"
     ]
    },
    {
     "name": "stderr",
     "output_type": "stream",
     "text": [
      " 19%|█▉        | 3/16 [00:09<00:44,  3.39s/it]"
     ]
    },
    {
     "name": "stdout",
     "output_type": "stream",
     "text": [
      "[SARIMAX] P={'p': 0, 'd': 0, 'q': 0, 'P': 2, 'D': 1, 'Q': 1, 't': 'n'} RMSE=242.122\n"
     ]
    },
    {
     "name": "stderr",
     "output_type": "stream",
     "text": [
      " 31%|███▏      | 5/16 [00:18<00:42,  3.82s/it]"
     ]
    },
    {
     "name": "stdout",
     "output_type": "stream",
     "text": [
      "[SARIMAX] P={'p': 0, 'd': 0, 'q': 1, 'P': 1, 'D': 1, 'Q': 1, 't': 'n'} RMSE=233.911\n"
     ]
    },
    {
     "name": "stderr",
     "output_type": "stream",
     "text": [
      "100%|██████████| 16/16 [01:46<00:00,  6.66s/it]\n"
     ]
    },
    {
     "name": "stdout",
     "output_type": "stream",
     "text": [
      "[SARIMAX] P={'p': 0, 'd': 0, 'q': 1, 'P': 1, 'D': 1, 'Q': 1, 't': 'n'} Best RMSE=233.911\n"
     ]
    },
    {
     "data": {
      "text/plain": [
       "<sarimax_model.SARIMAX at 0x153e16b80>"
      ]
     },
     "execution_count": 4,
     "metadata": {},
     "output_type": "execute_result"
    }
   ],
   "source": [
    "from helper import parameter_mixer\n",
    "from cross_validation import BaseTimeSeriesModelCrossValidation\n",
    "from sarimax_model import SARIMAX\n",
    "\n",
    "model = SARIMAX(m=7)\n",
    "p_values = [0, 1]\n",
    "d_values = [0]\n",
    "q_values = [0, 1]\n",
    "P_values = [1, 2]\n",
    "D_values = [1]\n",
    "Q_values = [1, 2]\n",
    "t_values = ['n']\n",
    "\n",
    "\n",
    "params = parameter_mixer(\n",
    "    ['p', 'd', 'q', 'P', 'D', 'Q', 't'],\n",
    "    [p_values, d_values, q_values, P_values, D_values, Q_values, t_values]\n",
    ")\n",
    "\n",
    "cv = BaseTimeSeriesModelCrossValidation(num_fold=5, rolling_size=10, validation_size=15)\n",
    "training_history, best_p = cv.cross_validation(df['y'], model, params)\n",
    "\n",
    "model.reset()\n",
    "model.fit(df['y'], best_p)\n",
    "model"
   ]
  },
  {
   "cell_type": "markdown",
   "metadata": {},
   "source": [
    "<div class=\"alert alert-block alert-warning\">  \n",
    "<h3> [Submission]</h3>"
   ]
  },
  {
   "cell_type": "code",
   "execution_count": 26,
   "metadata": {},
   "outputs": [],
   "source": [
    "from datetime import timedelta\n",
    "submission = model.forecast(15).reset_index(drop=True)\n",
    "submission.index = last_date + pd.to_timedelta(submission.index + 1, unit='D')\n",
    "submission.index.name = 'Date'\n",
    "submission.name = 'Forecasting'\n",
    "submission.to_csv('submission.csv', index=True)"
   ]
  }
 ],
 "metadata": {
  "kernelspec": {
   "display_name": "USF",
   "language": "python",
   "name": "python3"
  },
  "language_info": {
   "codemirror_mode": {
    "name": "ipython",
    "version": 3
   },
   "file_extension": ".py",
   "mimetype": "text/x-python",
   "name": "python",
   "nbconvert_exporter": "python",
   "pygments_lexer": "ipython3",
   "version": "3.8.18"
  }
 },
 "nbformat": 4,
 "nbformat_minor": 2
}
