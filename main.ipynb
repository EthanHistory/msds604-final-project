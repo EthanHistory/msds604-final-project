{
 "cells": [
  {
   "cell_type": "markdown",
   "metadata": {},
   "source": [
    "\n",
    "<div class=\"alert alert-block alert-info\">\n",
    "<h1>Data set-up and preprocessing</h1>"
   ]
  },
  {
   "cell_type": "code",
   "execution_count": 1,
   "metadata": {},
   "outputs": [],
   "source": [
    "import warnings                  \n",
    "\n",
    "import pandas as pd\n",
    "\n",
    "from helper import parameter_mixer\n",
    "from cross_validation import BaseTimeSeriesModelCrossValidation\n",
    "             \n",
    "warnings.filterwarnings('ignore')\n",
    "\n",
    "# [TODO] you need to change this path to your local data path\n",
    "data_path = './data/train.csv'\n",
    "\n",
    "df = pd.read_csv('./data/train.csv')\n",
    "df['Datetime'] = pd.to_datetime(df['Datetime']).dt.tz_localize(None)\n",
    "df = df.sort_values(by='Datetime').rename(columns={'Datetime' : 'ds', 'ActivePower' : 'y'})\n",
    "\n",
    "# [TODO] We would use different method to aggregate features (X)\n",
    "df = df.set_index('ds').resample('D').mean()\n",
    "\n",
    "last_date = df.index[-1]"
   ]
  },
  {
   "cell_type": "code",
   "execution_count": null,
   "metadata": {},
   "outputs": [],
   "source": [
    "cv = BaseTimeSeriesModelCrossValidation(num_fold=5, rolling_size=10, validation_size=15)"
   ]
  },
  {
   "cell_type": "markdown",
   "metadata": {},
   "source": [
    "<div class=\"alert alert-block alert-warning\">  \n",
    "<h3> [Demo] SARIMAX model (Inseong Han)</h3>"
   ]
  },
  {
   "cell_type": "code",
   "execution_count": null,
   "metadata": {},
   "outputs": [],
   "source": [
    "from sarimax_model import SARIMAX\n",
    "\n",
    "model = SARIMAX(m=7)\n",
    "p_values = [0, 1]\n",
    "d_values = [0]\n",
    "q_values = [0, 1]\n",
    "P_values = [1, 2]\n",
    "D_values = [1]\n",
    "Q_values = [1, 2]\n",
    "t_values = ['n']\n",
    "\n",
    "\n",
    "params = parameter_mixer(\n",
    "    ['p', 'd', 'q', 'P', 'D', 'Q', 't'],\n",
    "    [p_values, d_values, q_values, P_values, D_values, Q_values, t_values]\n",
    ")\n",
    "\n",
    "training_history, best_p, best_rmse = cv.cross_validation(df['y'], model, params)\n",
    "\n",
    "# Train the \n",
    "model.reset()\n",
    "model.fit(df['y'], best_p)"
   ]
  },
  {
   "cell_type": "markdown",
   "metadata": {},
   "source": [
    "<div class=\"alert alert-block alert-warning\">  \n",
    "<h3> Prophet model (Inseong Han)</h3>"
   ]
  },
  {
   "cell_type": "code",
   "execution_count": null,
   "metadata": {},
   "outputs": [],
   "source": [
    "from prophet_model import ProphetModel\n",
    "\n",
    "model = ProphetModel()\n",
    "params = [None]\n",
    "\n",
    "training_history, best_p, best_rmse = cv.cross_validation(df['y'], model, params)\n",
    "\n",
    "model.reset()\n",
    "model.fit(df['y'], best_p)"
   ]
  },
  {
   "cell_type": "markdown",
   "metadata": {},
   "source": [
    "<div class=\"alert alert-block alert-warning\">  \n",
    "<h3> [Submission]</h3>"
   ]
  },
  {
   "cell_type": "code",
   "execution_count": null,
   "metadata": {},
   "outputs": [],
   "source": [
    "from datetime import timedelta\n",
    "submission = model.forecast(15).reset_index(drop=True)\n",
    "submission.index = last_date + pd.to_timedelta(submission.index + 1, unit='D')\n",
    "submission.index.name = 'Date'\n",
    "submission.name = 'Forecasting'\n",
    "submission.to_csv('submission.csv', index=True)"
   ]
  }
 ],
 "metadata": {
  "kernelspec": {
   "display_name": "USF",
   "language": "python",
   "name": "python3"
  },
  "language_info": {
   "codemirror_mode": {
    "name": "ipython",
    "version": 3
   },
   "file_extension": ".py",
   "mimetype": "text/x-python",
   "name": "python",
   "nbconvert_exporter": "python",
   "pygments_lexer": "ipython3",
   "version": "3.8.18"
  }
 },
 "nbformat": 4,
 "nbformat_minor": 2
}
